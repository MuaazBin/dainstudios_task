{
 "cells": [
  {
   "cell_type": "markdown",
   "metadata": {},
   "source": [
    "Author: Muaaz Bin Sarfaraz"
   ]
  },
  {
   "cell_type": "markdown",
   "metadata": {},
   "source": [
    "# Task - DAINSTUDIOS\n",
    "\n",
    "Please generate a single(!) insight from the [given data set](http://www.europeansocialsurvey.org/downloadwizard/) and be prepared to communicate the insight and the methods that led you to it, including any code you have written.\n",
    "\n",
    "A single insight is enough and there is no need to look for the “best” insight. We will use this task as a starting point for more discussion.\n",
    "\n",
    "# Approach\n",
    "Import the dataset and perform basic data wrangling before moving towards exploratory analytics.\n",
    "During exploratory analytics find a single insight of interest and then if possible confirm it using statistical techniques or other datasets"
   ]
  },
  {
   "cell_type": "markdown",
   "metadata": {},
   "source": [
    "The data was selected with following check boxes Ticked!\n",
    "1. Gender, age and household composition (72/72)\n",
    "2. ESS Round = 7\n",
    "3. Country = Finland"
   ]
  },
  {
   "cell_type": "code",
   "execution_count": 2,
   "metadata": {
    "collapsed": true
   },
   "outputs": [],
   "source": [
    "import pandas as pd\n",
    "import numpy as np\n",
    "import seaborn as sns\n",
    "import matplotlib.pyplot as plt"
   ]
  },
  {
   "cell_type": "code",
   "execution_count": 3,
   "metadata": {},
   "outputs": [
    {
     "data": {
      "text/html": [
       "<div>\n",
       "<style>\n",
       "    .dataframe thead tr:only-child th {\n",
       "        text-align: right;\n",
       "    }\n",
       "\n",
       "    .dataframe thead th {\n",
       "        text-align: left;\n",
       "    }\n",
       "\n",
       "    .dataframe tbody tr th {\n",
       "        vertical-align: top;\n",
       "    }\n",
       "</style>\n",
       "<table border=\"1\" class=\"dataframe\">\n",
       "  <thead>\n",
       "    <tr style=\"text-align: right;\">\n",
       "      <th></th>\n",
       "      <th>cntry</th>\n",
       "      <th>cname</th>\n",
       "      <th>cedition</th>\n",
       "      <th>cproddat</th>\n",
       "      <th>cseqno</th>\n",
       "      <th>name</th>\n",
       "      <th>essround</th>\n",
       "      <th>edition</th>\n",
       "      <th>idno</th>\n",
       "      <th>dweight</th>\n",
       "      <th>...</th>\n",
       "      <th>rship14</th>\n",
       "      <th>rshipa14</th>\n",
       "      <th>rship15</th>\n",
       "      <th>rshipa15</th>\n",
       "      <th>rship16</th>\n",
       "      <th>rshipa16</th>\n",
       "      <th>rship17</th>\n",
       "      <th>rshipa17</th>\n",
       "      <th>rship18</th>\n",
       "      <th>rshipa18</th>\n",
       "    </tr>\n",
       "  </thead>\n",
       "  <tbody>\n",
       "    <tr>\n",
       "      <th>0</th>\n",
       "      <td>FI</td>\n",
       "      <td>ESS1-7e01</td>\n",
       "      <td>1</td>\n",
       "      <td>08.12.2016</td>\n",
       "      <td>127754</td>\n",
       "      <td>ESS7e02_1</td>\n",
       "      <td>7</td>\n",
       "      <td>2.1</td>\n",
       "      <td>10001</td>\n",
       "      <td>1</td>\n",
       "      <td>...</td>\n",
       "      <td>NaN</td>\n",
       "      <td>NaN</td>\n",
       "      <td>NaN</td>\n",
       "      <td>NaN</td>\n",
       "      <td>NaN</td>\n",
       "      <td>NaN</td>\n",
       "      <td>NaN</td>\n",
       "      <td>NaN</td>\n",
       "      <td>NaN</td>\n",
       "      <td>NaN</td>\n",
       "    </tr>\n",
       "    <tr>\n",
       "      <th>1</th>\n",
       "      <td>FI</td>\n",
       "      <td>ESS1-7e01</td>\n",
       "      <td>1</td>\n",
       "      <td>08.12.2016</td>\n",
       "      <td>127755</td>\n",
       "      <td>ESS7e02_1</td>\n",
       "      <td>7</td>\n",
       "      <td>2.1</td>\n",
       "      <td>10002</td>\n",
       "      <td>1</td>\n",
       "      <td>...</td>\n",
       "      <td>NaN</td>\n",
       "      <td>NaN</td>\n",
       "      <td>NaN</td>\n",
       "      <td>NaN</td>\n",
       "      <td>NaN</td>\n",
       "      <td>NaN</td>\n",
       "      <td>NaN</td>\n",
       "      <td>NaN</td>\n",
       "      <td>NaN</td>\n",
       "      <td>NaN</td>\n",
       "    </tr>\n",
       "    <tr>\n",
       "      <th>2</th>\n",
       "      <td>FI</td>\n",
       "      <td>ESS1-7e01</td>\n",
       "      <td>1</td>\n",
       "      <td>08.12.2016</td>\n",
       "      <td>127756</td>\n",
       "      <td>ESS7e02_1</td>\n",
       "      <td>7</td>\n",
       "      <td>2.1</td>\n",
       "      <td>10003</td>\n",
       "      <td>1</td>\n",
       "      <td>...</td>\n",
       "      <td>NaN</td>\n",
       "      <td>NaN</td>\n",
       "      <td>NaN</td>\n",
       "      <td>NaN</td>\n",
       "      <td>NaN</td>\n",
       "      <td>NaN</td>\n",
       "      <td>NaN</td>\n",
       "      <td>NaN</td>\n",
       "      <td>NaN</td>\n",
       "      <td>NaN</td>\n",
       "    </tr>\n",
       "    <tr>\n",
       "      <th>3</th>\n",
       "      <td>FI</td>\n",
       "      <td>ESS1-7e01</td>\n",
       "      <td>1</td>\n",
       "      <td>08.12.2016</td>\n",
       "      <td>127757</td>\n",
       "      <td>ESS7e02_1</td>\n",
       "      <td>7</td>\n",
       "      <td>2.1</td>\n",
       "      <td>10005</td>\n",
       "      <td>1</td>\n",
       "      <td>...</td>\n",
       "      <td>NaN</td>\n",
       "      <td>NaN</td>\n",
       "      <td>NaN</td>\n",
       "      <td>NaN</td>\n",
       "      <td>NaN</td>\n",
       "      <td>NaN</td>\n",
       "      <td>NaN</td>\n",
       "      <td>NaN</td>\n",
       "      <td>NaN</td>\n",
       "      <td>NaN</td>\n",
       "    </tr>\n",
       "    <tr>\n",
       "      <th>4</th>\n",
       "      <td>FI</td>\n",
       "      <td>ESS1-7e01</td>\n",
       "      <td>1</td>\n",
       "      <td>08.12.2016</td>\n",
       "      <td>127758</td>\n",
       "      <td>ESS7e02_1</td>\n",
       "      <td>7</td>\n",
       "      <td>2.1</td>\n",
       "      <td>10006</td>\n",
       "      <td>1</td>\n",
       "      <td>...</td>\n",
       "      <td>NaN</td>\n",
       "      <td>NaN</td>\n",
       "      <td>NaN</td>\n",
       "      <td>NaN</td>\n",
       "      <td>NaN</td>\n",
       "      <td>NaN</td>\n",
       "      <td>NaN</td>\n",
       "      <td>NaN</td>\n",
       "      <td>NaN</td>\n",
       "      <td>NaN</td>\n",
       "    </tr>\n",
       "  </tbody>\n",
       "</table>\n",
       "<p>5 rows × 84 columns</p>\n",
       "</div>"
      ],
      "text/plain": [
       "  cntry      cname  cedition    cproddat  cseqno       name  essround  \\\n",
       "0    FI  ESS1-7e01         1  08.12.2016  127754  ESS7e02_1         7   \n",
       "1    FI  ESS1-7e01         1  08.12.2016  127755  ESS7e02_1         7   \n",
       "2    FI  ESS1-7e01         1  08.12.2016  127756  ESS7e02_1         7   \n",
       "3    FI  ESS1-7e01         1  08.12.2016  127757  ESS7e02_1         7   \n",
       "4    FI  ESS1-7e01         1  08.12.2016  127758  ESS7e02_1         7   \n",
       "\n",
       "   edition   idno  dweight    ...     rship14  rshipa14  rship15  rshipa15  \\\n",
       "0      2.1  10001        1    ...         NaN       NaN      NaN       NaN   \n",
       "1      2.1  10002        1    ...         NaN       NaN      NaN       NaN   \n",
       "2      2.1  10003        1    ...         NaN       NaN      NaN       NaN   \n",
       "3      2.1  10005        1    ...         NaN       NaN      NaN       NaN   \n",
       "4      2.1  10006        1    ...         NaN       NaN      NaN       NaN   \n",
       "\n",
       "   rship16  rshipa16  rship17  rshipa17  rship18  rshipa18  \n",
       "0      NaN       NaN      NaN       NaN      NaN       NaN  \n",
       "1      NaN       NaN      NaN       NaN      NaN       NaN  \n",
       "2      NaN       NaN      NaN       NaN      NaN       NaN  \n",
       "3      NaN       NaN      NaN       NaN      NaN       NaN  \n",
       "4      NaN       NaN      NaN       NaN      NaN       NaN  \n",
       "\n",
       "[5 rows x 84 columns]"
      ]
     },
     "execution_count": 3,
     "metadata": {},
     "output_type": "execute_result"
    }
   ],
   "source": [
    "df = pd.read_csv('C:\\DAINSTUDIOS\\ESS1-7e01_2\\ESS1-7e01.csv')\n",
    "df.head()"
   ]
  },
  {
   "cell_type": "markdown",
   "metadata": {},
   "source": [
    "## Data Wrangling\n",
    "On reading the file we can observe that the dataset has 84 columns and many contain NaN values. \n",
    "Lets check how many missing values are there so we may drop columns with high missing values from further analysis\n",
    "or \n",
    "impute values if the percentage of missing values is low.\n",
    "\n",
    "Steps:\n",
    "\n",
    "1. Drop columns with high missing values\n",
    "2. Impute where missing values are low\n",
    "3. Drop unary features (forexample cnry: FI, it contains only FI)\n",
    "4. Duplicate columns"
   ]
  },
  {
   "cell_type": "code",
   "execution_count": 4,
   "metadata": {},
   "outputs": [
    {
     "name": "stdout",
     "output_type": "stream",
     "text": [
      "[26, 27, 28, 29, 30, 45, 46, 47, 48, 49, 74, 75, 76, 77, 78, 79, 80, 81, 82, 83]\n"
     ]
    }
   ],
   "source": [
    "missingvalues_col=[] #creating empty list\n",
    "for i in range(84):\n",
    "    if  df.iloc[:,i].count()< (len(df.index)*0.3): #if count of values in the column is less than 30% of total row count\n",
    "        missingvalues_col.append(i)\n",
    "print (missingvalues_col) #column index where missing values are more than 70%"
   ]
  },
  {
   "cell_type": "code",
   "execution_count": 5,
   "metadata": {},
   "outputs": [
    {
     "data": {
      "text/html": [
       "<div>\n",
       "<style>\n",
       "    .dataframe thead tr:only-child th {\n",
       "        text-align: right;\n",
       "    }\n",
       "\n",
       "    .dataframe thead th {\n",
       "        text-align: left;\n",
       "    }\n",
       "\n",
       "    .dataframe tbody tr th {\n",
       "        vertical-align: top;\n",
       "    }\n",
       "</style>\n",
       "<table border=\"1\" class=\"dataframe\">\n",
       "  <thead>\n",
       "    <tr style=\"text-align: right;\">\n",
       "      <th></th>\n",
       "      <th>cedition</th>\n",
       "      <th>cseqno</th>\n",
       "      <th>essround</th>\n",
       "      <th>edition</th>\n",
       "      <th>idno</th>\n",
       "      <th>dweight</th>\n",
       "      <th>pspwght</th>\n",
       "      <th>pweight</th>\n",
       "      <th>hhmmb</th>\n",
       "      <th>gndr</th>\n",
       "      <th>...</th>\n",
       "      <th>rship9</th>\n",
       "      <th>rshipa9</th>\n",
       "      <th>rship10</th>\n",
       "      <th>rshipa10</th>\n",
       "      <th>rship11</th>\n",
       "      <th>rshipa11</th>\n",
       "      <th>rship12</th>\n",
       "      <th>rshipa12</th>\n",
       "      <th>rship13</th>\n",
       "      <th>rshipa13</th>\n",
       "    </tr>\n",
       "  </thead>\n",
       "  <tbody>\n",
       "    <tr>\n",
       "      <th>count</th>\n",
       "      <td>2087.0</td>\n",
       "      <td>2087.000000</td>\n",
       "      <td>2087.0</td>\n",
       "      <td>2.087000e+03</td>\n",
       "      <td>2087.000000</td>\n",
       "      <td>2087.0</td>\n",
       "      <td>2087.000000</td>\n",
       "      <td>2.087000e+03</td>\n",
       "      <td>2087.000000</td>\n",
       "      <td>2087.000000</td>\n",
       "      <td>...</td>\n",
       "      <td>2087.00000</td>\n",
       "      <td>2087.000000</td>\n",
       "      <td>2087.000000</td>\n",
       "      <td>2087.000000</td>\n",
       "      <td>2087.000000</td>\n",
       "      <td>2087.000000</td>\n",
       "      <td>2087.000000</td>\n",
       "      <td>2087.000000</td>\n",
       "      <td>2087.000000</td>\n",
       "      <td>2087.000000</td>\n",
       "    </tr>\n",
       "    <tr>\n",
       "      <th>mean</th>\n",
       "      <td>1.0</td>\n",
       "      <td>128797.000000</td>\n",
       "      <td>7.0</td>\n",
       "      <td>2.100000e+00</td>\n",
       "      <td>11680.584571</td>\n",
       "      <td>1.0</td>\n",
       "      <td>1.000000</td>\n",
       "      <td>2.183157e-01</td>\n",
       "      <td>2.360326</td>\n",
       "      <td>1.507906</td>\n",
       "      <td>...</td>\n",
       "      <td>5.98850</td>\n",
       "      <td>65.787254</td>\n",
       "      <td>5.990417</td>\n",
       "      <td>65.817920</td>\n",
       "      <td>5.993292</td>\n",
       "      <td>65.878294</td>\n",
       "      <td>5.998083</td>\n",
       "      <td>65.969334</td>\n",
       "      <td>5.998083</td>\n",
       "      <td>65.969334</td>\n",
       "    </tr>\n",
       "    <tr>\n",
       "      <th>std</th>\n",
       "      <td>0.0</td>\n",
       "      <td>602.609326</td>\n",
       "      <td>0.0</td>\n",
       "      <td>3.642404e-14</td>\n",
       "      <td>963.981266</td>\n",
       "      <td>0.0</td>\n",
       "      <td>0.232462</td>\n",
       "      <td>5.441397e-15</td>\n",
       "      <td>1.325145</td>\n",
       "      <td>0.500057</td>\n",
       "      <td>...</td>\n",
       "      <td>0.20507</td>\n",
       "      <td>3.668525</td>\n",
       "      <td>0.185537</td>\n",
       "      <td>3.392141</td>\n",
       "      <td>0.157744</td>\n",
       "      <td>2.778244</td>\n",
       "      <td>0.087559</td>\n",
       "      <td>1.400937</td>\n",
       "      <td>0.087559</td>\n",
       "      <td>1.400937</td>\n",
       "    </tr>\n",
       "    <tr>\n",
       "      <th>min</th>\n",
       "      <td>1.0</td>\n",
       "      <td>127754.000000</td>\n",
       "      <td>7.0</td>\n",
       "      <td>2.100000e+00</td>\n",
       "      <td>10001.000000</td>\n",
       "      <td>1.0</td>\n",
       "      <td>0.700639</td>\n",
       "      <td>2.183157e-01</td>\n",
       "      <td>1.000000</td>\n",
       "      <td>1.000000</td>\n",
       "      <td>...</td>\n",
       "      <td>2.00000</td>\n",
       "      <td>2.000000</td>\n",
       "      <td>2.000000</td>\n",
       "      <td>2.000000</td>\n",
       "      <td>2.000000</td>\n",
       "      <td>2.000000</td>\n",
       "      <td>2.000000</td>\n",
       "      <td>2.000000</td>\n",
       "      <td>2.000000</td>\n",
       "      <td>2.000000</td>\n",
       "    </tr>\n",
       "    <tr>\n",
       "      <th>25%</th>\n",
       "      <td>1.0</td>\n",
       "      <td>128275.500000</td>\n",
       "      <td>7.0</td>\n",
       "      <td>2.100000e+00</td>\n",
       "      <td>10860.500000</td>\n",
       "      <td>1.0</td>\n",
       "      <td>0.820962</td>\n",
       "      <td>2.183157e-01</td>\n",
       "      <td>1.500000</td>\n",
       "      <td>1.000000</td>\n",
       "      <td>...</td>\n",
       "      <td>6.00000</td>\n",
       "      <td>66.000000</td>\n",
       "      <td>6.000000</td>\n",
       "      <td>66.000000</td>\n",
       "      <td>6.000000</td>\n",
       "      <td>66.000000</td>\n",
       "      <td>6.000000</td>\n",
       "      <td>66.000000</td>\n",
       "      <td>6.000000</td>\n",
       "      <td>66.000000</td>\n",
       "    </tr>\n",
       "    <tr>\n",
       "      <th>50%</th>\n",
       "      <td>1.0</td>\n",
       "      <td>128797.000000</td>\n",
       "      <td>7.0</td>\n",
       "      <td>2.100000e+00</td>\n",
       "      <td>11679.000000</td>\n",
       "      <td>1.0</td>\n",
       "      <td>0.923413</td>\n",
       "      <td>2.183157e-01</td>\n",
       "      <td>2.000000</td>\n",
       "      <td>2.000000</td>\n",
       "      <td>...</td>\n",
       "      <td>6.00000</td>\n",
       "      <td>66.000000</td>\n",
       "      <td>6.000000</td>\n",
       "      <td>66.000000</td>\n",
       "      <td>6.000000</td>\n",
       "      <td>66.000000</td>\n",
       "      <td>6.000000</td>\n",
       "      <td>66.000000</td>\n",
       "      <td>6.000000</td>\n",
       "      <td>66.000000</td>\n",
       "    </tr>\n",
       "    <tr>\n",
       "      <th>75%</th>\n",
       "      <td>1.0</td>\n",
       "      <td>129318.500000</td>\n",
       "      <td>7.0</td>\n",
       "      <td>2.100000e+00</td>\n",
       "      <td>12505.500000</td>\n",
       "      <td>1.0</td>\n",
       "      <td>1.129801</td>\n",
       "      <td>2.183157e-01</td>\n",
       "      <td>3.000000</td>\n",
       "      <td>2.000000</td>\n",
       "      <td>...</td>\n",
       "      <td>6.00000</td>\n",
       "      <td>66.000000</td>\n",
       "      <td>6.000000</td>\n",
       "      <td>66.000000</td>\n",
       "      <td>6.000000</td>\n",
       "      <td>66.000000</td>\n",
       "      <td>6.000000</td>\n",
       "      <td>66.000000</td>\n",
       "      <td>6.000000</td>\n",
       "      <td>66.000000</td>\n",
       "    </tr>\n",
       "    <tr>\n",
       "      <th>max</th>\n",
       "      <td>1.0</td>\n",
       "      <td>129840.000000</td>\n",
       "      <td>7.0</td>\n",
       "      <td>2.100000e+00</td>\n",
       "      <td>13399.000000</td>\n",
       "      <td>1.0</td>\n",
       "      <td>2.067547</td>\n",
       "      <td>2.183157e-01</td>\n",
       "      <td>13.000000</td>\n",
       "      <td>2.000000</td>\n",
       "      <td>...</td>\n",
       "      <td>6.00000</td>\n",
       "      <td>66.000000</td>\n",
       "      <td>6.000000</td>\n",
       "      <td>66.000000</td>\n",
       "      <td>6.000000</td>\n",
       "      <td>66.000000</td>\n",
       "      <td>6.000000</td>\n",
       "      <td>66.000000</td>\n",
       "      <td>6.000000</td>\n",
       "      <td>66.000000</td>\n",
       "    </tr>\n",
       "  </tbody>\n",
       "</table>\n",
       "<p>8 rows × 60 columns</p>\n",
       "</div>"
      ],
      "text/plain": [
       "       cedition         cseqno  essround       edition          idno  dweight  \\\n",
       "count    2087.0    2087.000000    2087.0  2.087000e+03   2087.000000   2087.0   \n",
       "mean        1.0  128797.000000       7.0  2.100000e+00  11680.584571      1.0   \n",
       "std         0.0     602.609326       0.0  3.642404e-14    963.981266      0.0   \n",
       "min         1.0  127754.000000       7.0  2.100000e+00  10001.000000      1.0   \n",
       "25%         1.0  128275.500000       7.0  2.100000e+00  10860.500000      1.0   \n",
       "50%         1.0  128797.000000       7.0  2.100000e+00  11679.000000      1.0   \n",
       "75%         1.0  129318.500000       7.0  2.100000e+00  12505.500000      1.0   \n",
       "max         1.0  129840.000000       7.0  2.100000e+00  13399.000000      1.0   \n",
       "\n",
       "           pspwght       pweight        hhmmb         gndr     ...       \\\n",
       "count  2087.000000  2.087000e+03  2087.000000  2087.000000     ...        \n",
       "mean      1.000000  2.183157e-01     2.360326     1.507906     ...        \n",
       "std       0.232462  5.441397e-15     1.325145     0.500057     ...        \n",
       "min       0.700639  2.183157e-01     1.000000     1.000000     ...        \n",
       "25%       0.820962  2.183157e-01     1.500000     1.000000     ...        \n",
       "50%       0.923413  2.183157e-01     2.000000     2.000000     ...        \n",
       "75%       1.129801  2.183157e-01     3.000000     2.000000     ...        \n",
       "max       2.067547  2.183157e-01    13.000000     2.000000     ...        \n",
       "\n",
       "           rship9      rshipa9      rship10     rshipa10      rship11  \\\n",
       "count  2087.00000  2087.000000  2087.000000  2087.000000  2087.000000   \n",
       "mean      5.98850    65.787254     5.990417    65.817920     5.993292   \n",
       "std       0.20507     3.668525     0.185537     3.392141     0.157744   \n",
       "min       2.00000     2.000000     2.000000     2.000000     2.000000   \n",
       "25%       6.00000    66.000000     6.000000    66.000000     6.000000   \n",
       "50%       6.00000    66.000000     6.000000    66.000000     6.000000   \n",
       "75%       6.00000    66.000000     6.000000    66.000000     6.000000   \n",
       "max       6.00000    66.000000     6.000000    66.000000     6.000000   \n",
       "\n",
       "          rshipa11      rship12     rshipa12      rship13     rshipa13  \n",
       "count  2087.000000  2087.000000  2087.000000  2087.000000  2087.000000  \n",
       "mean     65.878294     5.998083    65.969334     5.998083    65.969334  \n",
       "std       2.778244     0.087559     1.400937     0.087559     1.400937  \n",
       "min       2.000000     2.000000     2.000000     2.000000     2.000000  \n",
       "25%      66.000000     6.000000    66.000000     6.000000    66.000000  \n",
       "50%      66.000000     6.000000    66.000000     6.000000    66.000000  \n",
       "75%      66.000000     6.000000    66.000000     6.000000    66.000000  \n",
       "max      66.000000     6.000000    66.000000     6.000000    66.000000  \n",
       "\n",
       "[8 rows x 60 columns]"
      ]
     },
     "execution_count": 5,
     "metadata": {},
     "output_type": "execute_result"
    }
   ],
   "source": [
    "df.drop(df.columns[[missingvalues_col]], axis=1, inplace=True) \n",
    "df.describe()"
   ]
  },
  {
   "cell_type": "markdown",
   "metadata": {},
   "source": [
    "Some cols have standard deviation of zero meaning they have only one value through out the column.\n",
    "Such columns are unary and hold not much information."
   ]
  },
  {
   "cell_type": "code",
   "execution_count": 6,
   "metadata": {},
   "outputs": [
    {
     "name": "stdout",
     "output_type": "stream",
     "text": [
      "[]\n"
     ]
    }
   ],
   "source": [
    "missingvalues_col=[] #creating empty list\n",
    "for i in range(df.shape[1]):\n",
    "    if  df.iloc[:,i].count()< (len(df.index)): #if count of values in the column is less than 30% of total row count\n",
    "        missingvalues_col.append(i)\n",
    "print (missingvalues_col) #column index where missing values are more than 70%"
   ]
  },
  {
   "cell_type": "code",
   "execution_count": 8,
   "metadata": {
    "collapsed": true
   },
   "outputs": [],
   "source": [
    "df.to_csv('test_ess.csv')"
   ]
  },
  {
   "cell_type": "code",
   "execution_count": 7,
   "metadata": {},
   "outputs": [
    {
     "data": {
      "text/html": [
       "<div>\n",
       "<style>\n",
       "    .dataframe thead tr:only-child th {\n",
       "        text-align: right;\n",
       "    }\n",
       "\n",
       "    .dataframe thead th {\n",
       "        text-align: left;\n",
       "    }\n",
       "\n",
       "    .dataframe tbody tr th {\n",
       "        vertical-align: top;\n",
       "    }\n",
       "</style>\n",
       "<table border=\"1\" class=\"dataframe\">\n",
       "  <thead>\n",
       "    <tr style=\"text-align: right;\">\n",
       "      <th></th>\n",
       "      <th>cntry</th>\n",
       "      <th>cname</th>\n",
       "      <th>cedition</th>\n",
       "      <th>cproddat</th>\n",
       "      <th>cseqno</th>\n",
       "      <th>name</th>\n",
       "      <th>essround</th>\n",
       "      <th>edition</th>\n",
       "      <th>idno</th>\n",
       "      <th>dweight</th>\n",
       "      <th>...</th>\n",
       "      <th>rship9</th>\n",
       "      <th>rshipa9</th>\n",
       "      <th>rship10</th>\n",
       "      <th>rshipa10</th>\n",
       "      <th>rship11</th>\n",
       "      <th>rshipa11</th>\n",
       "      <th>rship12</th>\n",
       "      <th>rshipa12</th>\n",
       "      <th>rship13</th>\n",
       "      <th>rshipa13</th>\n",
       "    </tr>\n",
       "  </thead>\n",
       "  <tbody>\n",
       "    <tr>\n",
       "      <th>0</th>\n",
       "      <td>FI</td>\n",
       "      <td>ESS1-7e01</td>\n",
       "      <td>1</td>\n",
       "      <td>08.12.2016</td>\n",
       "      <td>127754</td>\n",
       "      <td>ESS7e02_1</td>\n",
       "      <td>7</td>\n",
       "      <td>2.1</td>\n",
       "      <td>10001</td>\n",
       "      <td>1</td>\n",
       "      <td>...</td>\n",
       "      <td>6</td>\n",
       "      <td>66</td>\n",
       "      <td>6</td>\n",
       "      <td>66</td>\n",
       "      <td>6</td>\n",
       "      <td>66</td>\n",
       "      <td>6</td>\n",
       "      <td>66</td>\n",
       "      <td>6</td>\n",
       "      <td>66</td>\n",
       "    </tr>\n",
       "    <tr>\n",
       "      <th>1</th>\n",
       "      <td>FI</td>\n",
       "      <td>ESS1-7e01</td>\n",
       "      <td>1</td>\n",
       "      <td>08.12.2016</td>\n",
       "      <td>127755</td>\n",
       "      <td>ESS7e02_1</td>\n",
       "      <td>7</td>\n",
       "      <td>2.1</td>\n",
       "      <td>10002</td>\n",
       "      <td>1</td>\n",
       "      <td>...</td>\n",
       "      <td>6</td>\n",
       "      <td>66</td>\n",
       "      <td>6</td>\n",
       "      <td>66</td>\n",
       "      <td>6</td>\n",
       "      <td>66</td>\n",
       "      <td>6</td>\n",
       "      <td>66</td>\n",
       "      <td>6</td>\n",
       "      <td>66</td>\n",
       "    </tr>\n",
       "    <tr>\n",
       "      <th>2</th>\n",
       "      <td>FI</td>\n",
       "      <td>ESS1-7e01</td>\n",
       "      <td>1</td>\n",
       "      <td>08.12.2016</td>\n",
       "      <td>127756</td>\n",
       "      <td>ESS7e02_1</td>\n",
       "      <td>7</td>\n",
       "      <td>2.1</td>\n",
       "      <td>10003</td>\n",
       "      <td>1</td>\n",
       "      <td>...</td>\n",
       "      <td>6</td>\n",
       "      <td>66</td>\n",
       "      <td>6</td>\n",
       "      <td>66</td>\n",
       "      <td>6</td>\n",
       "      <td>66</td>\n",
       "      <td>6</td>\n",
       "      <td>66</td>\n",
       "      <td>6</td>\n",
       "      <td>66</td>\n",
       "    </tr>\n",
       "    <tr>\n",
       "      <th>3</th>\n",
       "      <td>FI</td>\n",
       "      <td>ESS1-7e01</td>\n",
       "      <td>1</td>\n",
       "      <td>08.12.2016</td>\n",
       "      <td>127757</td>\n",
       "      <td>ESS7e02_1</td>\n",
       "      <td>7</td>\n",
       "      <td>2.1</td>\n",
       "      <td>10005</td>\n",
       "      <td>1</td>\n",
       "      <td>...</td>\n",
       "      <td>6</td>\n",
       "      <td>66</td>\n",
       "      <td>6</td>\n",
       "      <td>66</td>\n",
       "      <td>6</td>\n",
       "      <td>66</td>\n",
       "      <td>6</td>\n",
       "      <td>66</td>\n",
       "      <td>6</td>\n",
       "      <td>66</td>\n",
       "    </tr>\n",
       "    <tr>\n",
       "      <th>4</th>\n",
       "      <td>FI</td>\n",
       "      <td>ESS1-7e01</td>\n",
       "      <td>1</td>\n",
       "      <td>08.12.2016</td>\n",
       "      <td>127758</td>\n",
       "      <td>ESS7e02_1</td>\n",
       "      <td>7</td>\n",
       "      <td>2.1</td>\n",
       "      <td>10006</td>\n",
       "      <td>1</td>\n",
       "      <td>...</td>\n",
       "      <td>6</td>\n",
       "      <td>66</td>\n",
       "      <td>6</td>\n",
       "      <td>66</td>\n",
       "      <td>6</td>\n",
       "      <td>66</td>\n",
       "      <td>6</td>\n",
       "      <td>66</td>\n",
       "      <td>6</td>\n",
       "      <td>66</td>\n",
       "    </tr>\n",
       "  </tbody>\n",
       "</table>\n",
       "<p>5 rows × 64 columns</p>\n",
       "</div>"
      ],
      "text/plain": [
       "  cntry      cname  cedition    cproddat  cseqno       name  essround  \\\n",
       "0    FI  ESS1-7e01         1  08.12.2016  127754  ESS7e02_1         7   \n",
       "1    FI  ESS1-7e01         1  08.12.2016  127755  ESS7e02_1         7   \n",
       "2    FI  ESS1-7e01         1  08.12.2016  127756  ESS7e02_1         7   \n",
       "3    FI  ESS1-7e01         1  08.12.2016  127757  ESS7e02_1         7   \n",
       "4    FI  ESS1-7e01         1  08.12.2016  127758  ESS7e02_1         7   \n",
       "\n",
       "   edition   idno  dweight    ...     rship9  rshipa9  rship10  rshipa10  \\\n",
       "0      2.1  10001        1    ...          6       66        6        66   \n",
       "1      2.1  10002        1    ...          6       66        6        66   \n",
       "2      2.1  10003        1    ...          6       66        6        66   \n",
       "3      2.1  10005        1    ...          6       66        6        66   \n",
       "4      2.1  10006        1    ...          6       66        6        66   \n",
       "\n",
       "   rship11  rshipa11  rship12  rshipa12  rship13  rshipa13  \n",
       "0        6        66        6        66        6        66  \n",
       "1        6        66        6        66        6        66  \n",
       "2        6        66        6        66        6        66  \n",
       "3        6        66        6        66        6        66  \n",
       "4        6        66        6        66        6        66  \n",
       "\n",
       "[5 rows x 64 columns]"
      ]
     },
     "execution_count": 7,
     "metadata": {},
     "output_type": "execute_result"
    }
   ],
   "source": [
    "df.head()"
   ]
  },
  {
   "cell_type": "markdown",
   "metadata": {},
   "source": [
    "No missing values any more, no need to impute!"
   ]
  },
  {
   "cell_type": "markdown",
   "metadata": {},
   "source": [
    "## Data Visualisation"
   ]
  },
  {
   "cell_type": "markdown",
   "metadata": {},
   "source": [
    "From feature description file we have read what each abbreviation stands for!\n",
    "The dataset contains gender age and household composition.\n",
    "\n",
    "Lets look at the gender composition"
   ]
  },
  {
   "cell_type": "code",
   "execution_count": 16,
   "metadata": {},
   "outputs": [
    {
     "data": {
      "image/png": "[encoded data removed]",
      "text/plain": [
       "<matplotlib.figure.Figure at 0x235366c76a0>"
      ]
     },
     "metadata": {},
     "output_type": "display_data"
    },
    {
     "data": {
      "image/png": "[encoded data removed]",
      "text/plain": [
       "<matplotlib.figure.Figure at 0x23535d235c0>"
      ]
     },
     "metadata": {},
     "output_type": "display_data"
    },
    {
     "data": {
      "image/png": "[encoded data removed]",
      "text/plain": [
       "<matplotlib.figure.Figure at 0x2353672e7f0>"
      ]
     },
     "metadata": {},
     "output_type": "display_data"
    },
    {
     "data": {
      "image/png": "[encoded data removed]",
      "text/plain": [
       "<matplotlib.figure.Figure at 0x23535c725f8>"
      ]
     },
     "metadata": {},
     "output_type": "display_data"
    }
   ],
   "source": [
    "\n",
    "\n",
    "x_axis = ['gndr', 'gndr2', 'yrbrn','agea']\n",
    "# get pd.Series of counts of each name\n",
    "\n",
    "\n",
    "for col in x_axis:\n",
    "    data_counts = df[col].value_counts()\n",
    "    pd.DataFrame(data_counts).plot(kind='bar')\n",
    "    plt.show()\n"
   ]
  },
  {
   "cell_type": "markdown",
   "metadata": {},
   "source": [
    "## 1. Finding and Insight!"
   ]
  },
  {
   "cell_type": "markdown",
   "metadata": {},
   "source": [
    "The initial finding is whatever mechanism European social surveyors followed had a reach to both genders almost equally (1. Male and 2. Female) as seen from the first bar chart.\n",
    "\n",
    "Thus first single basic insight could be that the same survey approach could be successfully used for selling unisex products or services but might not be effective for products or services highly tailored for one gender. But I could be wrong as well. The respondent of Gender A could be interested for a product relevant to Gender B.\n",
    "\n",
    "Lets see the age distribution on a bigger figure using histogram"
   ]
  },
  {
   "cell_type": "code",
   "execution_count": 22,
   "metadata": {},
   "outputs": [
    {
     "data": {
      "image/png": "[encoded data removed]",
      "text/plain": [
       "<matplotlib.figure.Figure at 0x23536d8f828>"
      ]
     },
     "metadata": {},
     "output_type": "display_data"
    }
   ],
   "source": [
    "#Using histogram for continous data \n",
    "plt.hist(df['agea'], 20)\n",
    "plt.show()"
   ]
  },
  {
   "cell_type": "markdown",
   "metadata": {},
   "source": [
    "The age distribution is not normal(bell shaped)  but rather a bit positively skewed.\n",
    "Quite a lot of teens have been approached in this ESS-Survey.\n",
    "\n",
    "Lets see the age distribution for each gender!"
   ]
  },
  {
   "cell_type": "code",
   "execution_count": 24,
   "metadata": {},
   "outputs": [
    {
     "data": {
      "image/png": "[encoded data removed]",
      "text/plain": [
       "<matplotlib.figure.Figure at 0x235356cee10>"
      ]
     },
     "metadata": {},
     "output_type": "display_data"
    }
   ],
   "source": [
    "df_male = df[df['gndr'] ==1]\n",
    "\n",
    "\n",
    "plt.hist(df_male['agea'], 20)\n",
    "plt.title('Male Age Distribution')\n",
    "plt.show()"
   ]
  },
  {
   "cell_type": "code",
   "execution_count": 25,
   "metadata": {},
   "outputs": [
    {
     "data": {
      "image/png": "[encoded data removed]",
      "text/plain": [
       "<matplotlib.figure.Figure at 0x23536d36da0>"
      ]
     },
     "metadata": {},
     "output_type": "display_data"
    }
   ],
   "source": [
    "df_female = df[df['gndr'] ==2]\n",
    "\n",
    "plt.hist(df_female['agea'], 20)\n",
    "plt.title('Female Age Distribution')\n",
    "plt.show()"
   ]
  },
  {
   "cell_type": "markdown",
   "metadata": {},
   "source": [
    "## 2. Finding and Insight!"
   ]
  },
  {
   "cell_type": "markdown",
   "metadata": {},
   "source": [
    "Almost similar distribution irrespective of the gender.\n",
    "The other finding is that the finnish population compromises of more people in the age bracket of 45-75\n",
    "rather than 15-45. Since the data for 0-15 age is missing but still one can safely assume middle aged population seems higher.\n",
    "\n",
    "The insight is that the Finland has a negative or slow population growth. It needs more youngsters to replace the middle aged people to run its economy and perhaps is looking into solving this problem by easier immigration policies."
   ]
  },
  {
   "cell_type": "markdown",
   "metadata": {},
   "source": [
    "# Future Work"
   ]
  },
  {
   "cell_type": "markdown",
   "metadata": {},
   "source": [
    "1. Confirming findings and insight using atleast one other data source.\n",
    "2. Do trend analysis by incorporating other ESS rounds' (Years') data to confirm the finindg of Round 7.\n",
    "3. Show your results to a third party for unbias critical evaluation of your analysis.\n",
    "4. Research on the internet to see the findings make sense."
   ]
  },
  {
   "cell_type": "markdown",
   "metadata": {},
   "source": [
    "## Note:"
   ]
  },
  {
   "cell_type": "markdown",
   "metadata": {},
   "source": [
    "Please note that from the email it seems that I was suppose to do a very basic analysis and present only one insight.\n",
    "The work I did here took about 2 hours and is quite basic. If an in depth analysis is needed with interesting insights using bigger datasets with more features, kindly suggest."
   ]
  }
 ],
 "metadata": {
  "kernelspec": {
   "display_name": "Python 3",
   "language": "python",
   "name": "python3"
  },
  "language_info": {
   "codemirror_mode": {
    "name": "ipython",
    "version": 3
   },
   "file_extension": ".py",
   "mimetype": "text/x-python",
   "name": "python",
   "nbconvert_exporter": "python",
   "pygments_lexer": "ipython3",
   "version": "3.6.3"
  }
 },
 "nbformat": 4,
 "nbformat_minor": 2
}
